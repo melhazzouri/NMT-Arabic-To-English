{
  "nbformat": 4,
  "nbformat_minor": 0,
  "metadata": {
    "colab": {
      "provenance": []
    },
    "kernelspec": {
      "name": "python3",
      "display_name": "Python 3"
    },
    "language_info": {
      "name": "python"
    },
    "accelerator": "GPU",
    "gpuClass": "standard"
  },
  "cells": [
    {
      "cell_type": "markdown",
      "source": [
        "# Machine Translation\n",
        "1- Import Dependanices\n",
        "\n",
        "2- import dataset for training\n",
        "\n",
        "3- Basic EDA and visualization\n",
        "\n",
        "4- Data Cleaning\n",
        "\n",
        "5- Tokenization and build vocabalury\n",
        "\n",
        "6- Pad Sequence and Vectorization\n",
        "\n",
        "7- Train model\n",
        "\n",
        "8- Predictions\n"
      ],
      "metadata": {
        "id": "hFbvkhZOOuGO"
      }
    },
    {
      "cell_type": "markdown",
      "source": [
        "# Import Libraries"
      ],
      "metadata": {
        "id": "JpvftB5_PiHP"
      }
    },
    {
      "cell_type": "code",
      "source": [
        "# basic libs\n",
        "import numpy as np\n",
        "import pandas as pd\n",
        "import matplotlib.pyplot as plt\n",
        "import collections\n",
        "import seaborn as sns\n",
        "%matplotlib inline\n",
        "\n",
        "# cleaning data\n",
        "import re\n",
        "import os\n",
        "import nltk\n",
        "nltk.download(\"stopwords\")\n",
        "nltk.download('punkt')\n",
        "\n",
        "# save vocabulary in files\n",
        "import pickle\n",
        "\n",
        "# tokenization\n",
        "import tensorflow as tf\n",
        "from tensorflow import keras\n",
        "from tensorflow.keras.preprocessing.text import Tokenizer\n",
        "from tensorflow.keras.preprocessing.sequence import pad_sequences\n",
        "from keras.preprocessing.text import Tokenizer\n",
        "from keras.models import Model, Sequential\n",
        "from keras.layers import GRU, Input, Dense, TimeDistributed, Activation, RepeatVector, Bidirectional,LSTM, Dropout\n",
        "from tensorflow.keras.layers import Embedding\n",
        "from keras.optimizers import Adam\n",
        "from keras.losses import sparse_categorical_crossentropy\n",
        "from keras.callbacks import ModelCheckpoint"
      ],
      "metadata": {
        "colab": {
          "base_uri": "https://localhost:8080/"
        },
        "id": "IFEGMzWuOrO9",
        "outputId": "2708be90-f2e0-4cd5-aacd-52dafef67ef6"
      },
      "execution_count": 107,
      "outputs": [
        {
          "output_type": "stream",
          "name": "stderr",
          "text": [
            "[nltk_data] Downloading package stopwords to /root/nltk_data...\n",
            "[nltk_data]   Package stopwords is already up-to-date!\n",
            "[nltk_data] Downloading package punkt to /root/nltk_data...\n",
            "[nltk_data]   Package punkt is already up-to-date!\n"
          ]
        }
      ]
    },
    {
      "cell_type": "markdown",
      "source": [
        "# Import Dataset"
      ],
      "metadata": {
        "id": "m2JbDQF4Pl1Q"
      }
    },
    {
      "cell_type": "code",
      "source": [
        "df = pd.read_csv(\"ara_eng.txt\",delimiter=\"\\t\",names=[\"English\",\"Arabic\"])\n",
        "df.head()"
      ],
      "metadata": {
        "colab": {
          "base_uri": "https://localhost:8080/",
          "height": 206
        },
        "id": "X2mKn-K3uAHQ",
        "outputId": "7c17768f-a8c4-41d4-e2da-866183b1bfc1"
      },
      "execution_count": 108,
      "outputs": [
        {
          "output_type": "execute_result",
          "data": {
            "text/plain": [
              "  English   Arabic\n",
              "0     Hi.  مرحبًا.\n",
              "1    Run!    اركض!\n",
              "2   Help!  النجدة!\n",
              "3   Jump!    اقفز!\n",
              "4   Stop!      قف!"
            ],
            "text/html": [
              "\n",
              "  <div id=\"df-f416bafa-9eaa-4669-9b9f-ef921283d30a\">\n",
              "    <div class=\"colab-df-container\">\n",
              "      <div>\n",
              "<style scoped>\n",
              "    .dataframe tbody tr th:only-of-type {\n",
              "        vertical-align: middle;\n",
              "    }\n",
              "\n",
              "    .dataframe tbody tr th {\n",
              "        vertical-align: top;\n",
              "    }\n",
              "\n",
              "    .dataframe thead th {\n",
              "        text-align: right;\n",
              "    }\n",
              "</style>\n",
              "<table border=\"1\" class=\"dataframe\">\n",
              "  <thead>\n",
              "    <tr style=\"text-align: right;\">\n",
              "      <th></th>\n",
              "      <th>English</th>\n",
              "      <th>Arabic</th>\n",
              "    </tr>\n",
              "  </thead>\n",
              "  <tbody>\n",
              "    <tr>\n",
              "      <th>0</th>\n",
              "      <td>Hi.</td>\n",
              "      <td>مرحبًا.</td>\n",
              "    </tr>\n",
              "    <tr>\n",
              "      <th>1</th>\n",
              "      <td>Run!</td>\n",
              "      <td>اركض!</td>\n",
              "    </tr>\n",
              "    <tr>\n",
              "      <th>2</th>\n",
              "      <td>Help!</td>\n",
              "      <td>النجدة!</td>\n",
              "    </tr>\n",
              "    <tr>\n",
              "      <th>3</th>\n",
              "      <td>Jump!</td>\n",
              "      <td>اقفز!</td>\n",
              "    </tr>\n",
              "    <tr>\n",
              "      <th>4</th>\n",
              "      <td>Stop!</td>\n",
              "      <td>قف!</td>\n",
              "    </tr>\n",
              "  </tbody>\n",
              "</table>\n",
              "</div>\n",
              "      <button class=\"colab-df-convert\" onclick=\"convertToInteractive('df-f416bafa-9eaa-4669-9b9f-ef921283d30a')\"\n",
              "              title=\"Convert this dataframe to an interactive table.\"\n",
              "              style=\"display:none;\">\n",
              "        \n",
              "  <svg xmlns=\"http://www.w3.org/2000/svg\" height=\"24px\"viewBox=\"0 0 24 24\"\n",
              "       width=\"24px\">\n",
              "    <path d=\"M0 0h24v24H0V0z\" fill=\"none\"/>\n",
              "    <path d=\"M18.56 5.44l.94 2.06.94-2.06 2.06-.94-2.06-.94-.94-2.06-.94 2.06-2.06.94zm-11 1L8.5 8.5l.94-2.06 2.06-.94-2.06-.94L8.5 2.5l-.94 2.06-2.06.94zm10 10l.94 2.06.94-2.06 2.06-.94-2.06-.94-.94-2.06-.94 2.06-2.06.94z\"/><path d=\"M17.41 7.96l-1.37-1.37c-.4-.4-.92-.59-1.43-.59-.52 0-1.04.2-1.43.59L10.3 9.45l-7.72 7.72c-.78.78-.78 2.05 0 2.83L4 21.41c.39.39.9.59 1.41.59.51 0 1.02-.2 1.41-.59l7.78-7.78 2.81-2.81c.8-.78.8-2.07 0-2.86zM5.41 20L4 18.59l7.72-7.72 1.47 1.35L5.41 20z\"/>\n",
              "  </svg>\n",
              "      </button>\n",
              "      \n",
              "  <style>\n",
              "    .colab-df-container {\n",
              "      display:flex;\n",
              "      flex-wrap:wrap;\n",
              "      gap: 12px;\n",
              "    }\n",
              "\n",
              "    .colab-df-convert {\n",
              "      background-color: #E8F0FE;\n",
              "      border: none;\n",
              "      border-radius: 50%;\n",
              "      cursor: pointer;\n",
              "      display: none;\n",
              "      fill: #1967D2;\n",
              "      height: 32px;\n",
              "      padding: 0 0 0 0;\n",
              "      width: 32px;\n",
              "    }\n",
              "\n",
              "    .colab-df-convert:hover {\n",
              "      background-color: #E2EBFA;\n",
              "      box-shadow: 0px 1px 2px rgba(60, 64, 67, 0.3), 0px 1px 3px 1px rgba(60, 64, 67, 0.15);\n",
              "      fill: #174EA6;\n",
              "    }\n",
              "\n",
              "    [theme=dark] .colab-df-convert {\n",
              "      background-color: #3B4455;\n",
              "      fill: #D2E3FC;\n",
              "    }\n",
              "\n",
              "    [theme=dark] .colab-df-convert:hover {\n",
              "      background-color: #434B5C;\n",
              "      box-shadow: 0px 1px 3px 1px rgba(0, 0, 0, 0.15);\n",
              "      filter: drop-shadow(0px 1px 2px rgba(0, 0, 0, 0.3));\n",
              "      fill: #FFFFFF;\n",
              "    }\n",
              "  </style>\n",
              "\n",
              "      <script>\n",
              "        const buttonEl =\n",
              "          document.querySelector('#df-f416bafa-9eaa-4669-9b9f-ef921283d30a button.colab-df-convert');\n",
              "        buttonEl.style.display =\n",
              "          google.colab.kernel.accessAllowed ? 'block' : 'none';\n",
              "\n",
              "        async function convertToInteractive(key) {\n",
              "          const element = document.querySelector('#df-f416bafa-9eaa-4669-9b9f-ef921283d30a');\n",
              "          const dataTable =\n",
              "            await google.colab.kernel.invokeFunction('convertToInteractive',\n",
              "                                                     [key], {});\n",
              "          if (!dataTable) return;\n",
              "\n",
              "          const docLinkHtml = 'Like what you see? Visit the ' +\n",
              "            '<a target=\"_blank\" href=https://colab.research.google.com/notebooks/data_table.ipynb>data table notebook</a>'\n",
              "            + ' to learn more about interactive tables.';\n",
              "          element.innerHTML = '';\n",
              "          dataTable['output_type'] = 'display_data';\n",
              "          await google.colab.output.renderOutput(dataTable, element);\n",
              "          const docLink = document.createElement('div');\n",
              "          docLink.innerHTML = docLinkHtml;\n",
              "          element.appendChild(docLink);\n",
              "        }\n",
              "      </script>\n",
              "    </div>\n",
              "  </div>\n",
              "  "
            ]
          },
          "metadata": {},
          "execution_count": 108
        }
      ]
    },
    {
      "cell_type": "code",
      "source": [
        "df.info()"
      ],
      "metadata": {
        "colab": {
          "base_uri": "https://localhost:8080/"
        },
        "id": "2eR5Dl-HupHw",
        "outputId": "a0552091-f4d1-4f6e-b029-76b7cedd96c9"
      },
      "execution_count": 109,
      "outputs": [
        {
          "output_type": "stream",
          "name": "stdout",
          "text": [
            "<class 'pandas.core.frame.DataFrame'>\n",
            "RangeIndex: 24638 entries, 0 to 24637\n",
            "Data columns (total 2 columns):\n",
            " #   Column   Non-Null Count  Dtype \n",
            "---  ------   --------------  ----- \n",
            " 0   English  24638 non-null  object\n",
            " 1   Arabic   24638 non-null  object\n",
            "dtypes: object(2)\n",
            "memory usage: 385.1+ KB\n"
          ]
        }
      ]
    },
    {
      "cell_type": "code",
      "source": [
        "df = df [:20000]"
      ],
      "metadata": {
        "id": "U75fDnuAzkjG"
      },
      "execution_count": 110,
      "outputs": []
    },
    {
      "cell_type": "markdown",
      "source": [
        "# Basic EDA and visualization"
      ],
      "metadata": {
        "id": "QhnxPii6PpFA"
      }
    },
    {
      "cell_type": "code",
      "source": [
        "english_sentences = df['English']\n",
        "arabic_sentences = df['Arabic']\n",
        "english_words_counter = collections.Counter([word for sentence in english_sentences for word in sentence.split()])\n",
        "arabic_words_counter = collections.Counter([word for sentence in arabic_sentences for word in sentence.split()])\n",
        "\n",
        "print('{} English words.'.format(len([word for sentence in english_sentences for word in sentence.split()])))\n",
        "print('{} unique English words.'.format(len(english_words_counter)))\n",
        "print('10 Most common words in the English dataset:')\n",
        "print('\"' + '\" \"'.join(list(zip(*english_words_counter.most_common(10)))[0]) + '\"')\n",
        "print()\n",
        "print('{} Arabic words.'.format(len([word for sentence in arabic_sentences for word in sentence.split()])))\n",
        "print('{} unique Arabic words.'.format(len(arabic_words_counter)))\n",
        "print('10 Most common words in the Arabic dataset:')\n",
        "print('\"' + '\" \"'.join(list(zip(*arabic_words_counter.most_common(10)))[0]) + '\"')"
      ],
      "metadata": {
        "colab": {
          "base_uri": "https://localhost:8080/"
        },
        "id": "FFjgJJs0u9di",
        "outputId": "ece15dc2-1ebe-4706-8f4b-b8f434641286"
      },
      "execution_count": 111,
      "outputs": [
        {
          "output_type": "stream",
          "name": "stdout",
          "text": [
            "302085 English words.\n",
            "26133 unique English words.\n",
            "10 Most common words in the English dataset:\n",
            "\"the\" \"to\" \"of\" \"a\" \"in\" \"and\" \"is\" \"on\" \"for\" \"I\"\n",
            "\n",
            "256663 Arabic words.\n",
            "48743 unique Arabic words.\n",
            "10 Most common words in the Arabic dataset:\n",
            "\"في\" \"من\" \"على\" \"ان\" \"عن\" \"العالمية\" \"الاصوات\" \"لا\" \"هذا\" \"الى\"\n"
          ]
        }
      ]
    },
    {
      "cell_type": "code",
      "source": [
        "word_count = df['English'].str.split().apply(len).value_counts()\n",
        "word_dict = dict(word_count)\n",
        "word_dict = dict(sorted(word_dict.items(), key=lambda kv: kv[1]))\n",
        "index  = np.arange(len(word_dict))\n",
        "values1 = word_dict.values()\n",
        "plt.figure(figsize=(36,5))\n",
        "plt.bar(index,values1)\n",
        "plt.xlabel('Length of sentences in English')\n",
        "plt.ylabel('occurances')\n",
        "plt.xticks(index,word_dict.keys())\n",
        "plt.show()"
      ],
      "metadata": {
        "colab": {
          "base_uri": "https://localhost:8080/",
          "height": 246
        },
        "id": "kM1zarNuOEBF",
        "outputId": "655ad95c-983d-4846-b988-b42a07359255"
      },
      "execution_count": 112,
      "outputs": [
        {
          "output_type": "display_data",
          "data": {
            "text/plain": [
              "<Figure size 2592x360 with 1 Axes>"
            ],
            "image/png": "[encoded data removed]"
          },
          "metadata": {
            "needs_background": "light"
          }
        }
      ]
    },
    {
      "cell_type": "code",
      "source": [
        "word_count = df['Arabic'].str.split().apply(len).value_counts()\n",
        "word_dict = dict(word_count)\n",
        "word_dict = dict(sorted(word_dict.items(), key=lambda kv: kv[1]))\n",
        "index  = np.arange(len(word_dict))\n",
        "values1 = word_dict.values()\n",
        "plt.figure(figsize=(36,5))\n",
        "plt.bar(index,values1)\n",
        "plt.xlabel('Length of sentences in Arabic')\n",
        "plt.ylabel('occurances')\n",
        "plt.xticks(index,word_dict.keys())\n",
        "plt.show()"
      ],
      "metadata": {
        "colab": {
          "base_uri": "https://localhost:8080/",
          "height": 246
        },
        "id": "Rm5AWp45OELl",
        "outputId": "cc0f5e55-d57f-4a70-aba3-0b090e88896f"
      },
      "execution_count": 113,
      "outputs": [
        {
          "output_type": "display_data",
          "data": {
            "text/plain": [
              "<Figure size 2592x360 with 1 Axes>"
            ],
            "image/png": "[encoded data removed]"
          },
          "metadata": {
            "needs_background": "light"
          }
        }
      ]
    },
    {
      "cell_type": "markdown",
      "source": [
        "# Data Cleaning"
      ],
      "metadata": {
        "id": "jwyC-IIaP4pY"
      }
    },
    {
      "cell_type": "code",
      "source": [
        "# clean english column\n",
        "def clean_english(text):\n",
        "  text=text.lower() # lower case\n",
        "\n",
        "  # remove any characters not a-z and ?!,'\n",
        "  text=re.sub(u\"[^a-z!?',]\",\" \",text)\n",
        "\n",
        "  # word tokenization\n",
        "  text=nltk.word_tokenize(text)\n",
        "\n",
        "  # join text\n",
        "  text=\" \".join([i.strip() for i in text])\n",
        "\n",
        "  return text"
      ],
      "metadata": {
        "id": "CvBl9CKHvirz"
      },
      "execution_count": 114,
      "outputs": []
    },
    {
      "cell_type": "code",
      "source": [
        "df[\"English\"]=df[\"English\"].apply(lambda txt:clean_english(txt))"
      ],
      "metadata": {
        "id": "HjAbOk63wVBl"
      },
      "execution_count": 115,
      "outputs": []
    },
    {
      "cell_type": "code",
      "source": [
        "### We won't need to clean arabic text"
      ],
      "metadata": {
        "id": "fQ7lUICDwgg1"
      },
      "execution_count": 116,
      "outputs": []
    },
    {
      "cell_type": "markdown",
      "source": [
        "# Tokenization"
      ],
      "metadata": {
        "id": "lI-fzVjpP8KY"
      }
    },
    {
      "cell_type": "code",
      "source": [
        "def tokenize(x):\n",
        "    \n",
        "    tokenizer = Tokenizer()\n",
        "    tokenizer.fit_on_texts(x)\n",
        "    return tokenizer.texts_to_sequences(x), tokenizer"
      ],
      "metadata": {
        "id": "sZGI3hHvw9Cf"
      },
      "execution_count": 117,
      "outputs": []
    },
    {
      "cell_type": "markdown",
      "source": [
        "# Padding"
      ],
      "metadata": {
        "id": "bO12dO24QU15"
      }
    },
    {
      "cell_type": "code",
      "source": [
        "def pad(x, length=None):\n",
        "    if length is None:\n",
        "        length = max([len(sentence) for sentence in x])\n",
        "    return pad_sequences(x, maxlen = 55, padding = 'post')"
      ],
      "metadata": {
        "id": "qg1JgsS8xAm2"
      },
      "execution_count": 118,
      "outputs": []
    },
    {
      "cell_type": "markdown",
      "source": [
        "# Preprocess pipeline"
      ],
      "metadata": {
        "id": "BNRzk7dyQXF5"
      }
    },
    {
      "cell_type": "code",
      "source": [
        "def preprocess(x, y):\n",
        "   \n",
        "    preprocess_x, x_tk = tokenize(x)\n",
        "    preprocess_y, y_tk = tokenize(y)\n",
        "\n",
        "    preprocess_x = pad(preprocess_x)\n",
        "    preprocess_y = pad(preprocess_y)\n",
        "\n",
        "    # Keras's sparse_categorical_crossentropy function requires the labels to be in 3 dimensions\n",
        "    preprocess_y = preprocess_y.reshape(*preprocess_y.shape, 1)\n",
        "\n",
        "    return preprocess_x, preprocess_y, x_tk, y_tk"
      ],
      "metadata": {
        "id": "f4c-jeLvxDFH"
      },
      "execution_count": 119,
      "outputs": []
    },
    {
      "cell_type": "code",
      "source": [
        "preproc_english_sentences, preproc_arabic_sentences, english_tokenizer, arabic_tokenizer = preprocess(english_sentences, arabic_sentences)"
      ],
      "metadata": {
        "id": "C5JdafucxIkH"
      },
      "execution_count": 120,
      "outputs": []
    },
    {
      "cell_type": "code",
      "source": [
        "max_english_sequence_length = preproc_english_sentences.shape[1]\n",
        "max_arabic_sequence_length = preproc_arabic_sentences.shape[1]\n",
        "english_vocab_size = len(english_tokenizer.word_index)\n",
        "arabic_vocab_size = len(arabic_tokenizer.word_index)"
      ],
      "metadata": {
        "id": "OkS02uYUxOnX"
      },
      "execution_count": 121,
      "outputs": []
    },
    {
      "cell_type": "code",
      "source": [
        "print(\"Max English sentence length:\", max_english_sequence_length)\n",
        "print(\"Max Arabic sentence length:\", max_arabic_sequence_length)\n",
        "print(\"English vocabulary size:\", english_vocab_size)\n",
        "print(\"Arabic vocabulary size:\", arabic_vocab_size)"
      ],
      "metadata": {
        "colab": {
          "base_uri": "https://localhost:8080/"
        },
        "id": "XdxcCXXYxeLo",
        "outputId": "07022bbd-d468-4ce4-80be-e1f49326ab87"
      },
      "execution_count": 122,
      "outputs": [
        {
          "output_type": "stream",
          "name": "stdout",
          "text": [
            "Max English sentence length: 55\n",
            "Max Arabic sentence length: 55\n",
            "English vocabulary size: 20569\n",
            "Arabic vocabulary size: 46300\n"
          ]
        }
      ]
    },
    {
      "cell_type": "markdown",
      "source": [
        " Convert the final prediction by our model into text form"
      ],
      "metadata": {
        "id": "PgrvNNd-QumS"
      }
    },
    {
      "cell_type": "code",
      "source": [
        "def logits_to_text(logits, tokenizer):\n",
        "    \n",
        "    index_to_words = {id: word for word, id in tokenizer.word_index.items()}\n",
        "    index_to_words[0] = '<PAD>'\n",
        "\n",
        "    return ' '.join([index_to_words[prediction] for prediction in np.argmax(logits, 1)])"
      ],
      "metadata": {
        "id": "DFRWUUO5xfBY"
      },
      "execution_count": 123,
      "outputs": []
    },
    {
      "cell_type": "markdown",
      "source": [
        "# Model"
      ],
      "metadata": {
        "id": "vUzlc7tZQxma"
      }
    },
    {
      "cell_type": "code",
      "source": [
        "def model(input_shape, output_sequence_length, english_vocab_size, arabic_vocab_size):\n",
        "    \n",
        "    learning_rate = 0.003\n",
        "    \n",
        "    # Build the layers\n",
        "    model = Sequential()\n",
        "    model.add(Embedding(arabic_vocab_size, 256, input_length=input_shape[1], input_shape=input_shape[1:]))\n",
        "    model.add(Bidirectional(GRU(256, return_sequences=True)))\n",
        "    model.add(TimeDistributed(Dense(1024, activation='relu')))\n",
        "    model.add(Dropout(0.5))\n",
        "    model.add(TimeDistributed(Dense(english_vocab_size, activation='softmax'))) \n",
        "\n",
        "    # Compile model\n",
        "    model.compile(loss=sparse_categorical_crossentropy,\n",
        "                  optimizer=Adam(learning_rate),\n",
        "                  metrics=['accuracy'])\n",
        "    return model"
      ],
      "metadata": {
        "id": "6YQXRktgxlBI"
      },
      "execution_count": 124,
      "outputs": []
    },
    {
      "cell_type": "code",
      "source": [
        "preproc_english_sentences.shape"
      ],
      "metadata": {
        "colab": {
          "base_uri": "https://localhost:8080/"
        },
        "id": "Zw6BpZhZxpn4",
        "outputId": "a5805a43-9e3e-4720-80fe-e2a8a48a48c2"
      },
      "execution_count": 125,
      "outputs": [
        {
          "output_type": "execute_result",
          "data": {
            "text/plain": [
              "(20000, 55)"
            ]
          },
          "metadata": {},
          "execution_count": 125
        }
      ]
    },
    {
      "cell_type": "code",
      "source": [
        "tmp_x = pad(preproc_arabic_sentences, preproc_arabic_sentences.shape[1])\n",
        "tmp_x = tmp_x.reshape((-1, preproc_arabic_sentences.shape[-2]))"
      ],
      "metadata": {
        "id": "B3nTtITRxvWY"
      },
      "execution_count": 126,
      "outputs": []
    },
    {
      "cell_type": "code",
      "source": [
        "model = model(\n",
        "    tmp_x.shape,\n",
        "    preproc_english_sentences.shape[1],\n",
        "    len(english_tokenizer.word_index)+1,\n",
        "    len(arabic_tokenizer.word_index)+1)\n",
        "\n",
        "model.summary()\n"
      ],
      "metadata": {
        "colab": {
          "base_uri": "https://localhost:8080/"
        },
        "id": "mZFmfIkDyEiJ",
        "outputId": "91e1f79e-37b2-4091-a47e-5140ad9e2e8c"
      },
      "execution_count": 127,
      "outputs": [
        {
          "output_type": "stream",
          "name": "stdout",
          "text": [
            "Model: \"sequential_3\"\n",
            "_________________________________________________________________\n",
            " Layer (type)                Output Shape              Param #   \n",
            "=================================================================\n",
            " embedding_3 (Embedding)     (None, 55, 256)           11853056  \n",
            "                                                                 \n",
            " bidirectional_3 (Bidirectio  (None, 55, 512)          789504    \n",
            " nal)                                                            \n",
            "                                                                 \n",
            " time_distributed_6 (TimeDis  (None, 55, 1024)         525312    \n",
            " tributed)                                                       \n",
            "                                                                 \n",
            " dropout_3 (Dropout)         (None, 55, 1024)          0         \n",
            "                                                                 \n",
            " time_distributed_7 (TimeDis  (None, 55, 20570)        21084250  \n",
            " tributed)                                                       \n",
            "                                                                 \n",
            "=================================================================\n",
            "Total params: 34,252,122\n",
            "Trainable params: 34,252,122\n",
            "Non-trainable params: 0\n",
            "_________________________________________________________________\n"
          ]
        }
      ]
    },
    {
      "cell_type": "code",
      "source": [
        "model.fit(tmp_x, preproc_english_sentences, batch_size=64, epochs=10, validation_split=0.2)"
      ],
      "metadata": {
        "colab": {
          "base_uri": "https://localhost:8080/"
        },
        "id": "G6I1uLhcyPWq",
        "outputId": "3568713e-d329-4395-fdd1-95e113bbfe5c"
      },
      "execution_count": 128,
      "outputs": [
        {
          "output_type": "stream",
          "name": "stdout",
          "text": [
            "Epoch 1/10\n",
            "250/250 [==============================] - 72s 276ms/step - loss: 1.7927 - accuracy: 0.7880 - val_loss: 3.3997 - val_accuracy: 0.5735\n",
            "Epoch 2/10\n",
            "250/250 [==============================] - 67s 268ms/step - loss: 1.5002 - accuracy: 0.7984 - val_loss: 3.4090 - val_accuracy: 0.5752\n",
            "Epoch 3/10\n",
            "250/250 [==============================] - 63s 250ms/step - loss: 1.3901 - accuracy: 0.8059 - val_loss: 3.4564 - val_accuracy: 0.5746\n",
            "Epoch 4/10\n",
            "250/250 [==============================] - 67s 268ms/step - loss: 1.2835 - accuracy: 0.8131 - val_loss: 3.5232 - val_accuracy: 0.5697\n",
            "Epoch 5/10\n",
            "250/250 [==============================] - 62s 250ms/step - loss: 1.1762 - accuracy: 0.8211 - val_loss: 3.5950 - val_accuracy: 0.5710\n",
            "Epoch 6/10\n",
            "250/250 [==============================] - 67s 268ms/step - loss: 1.0642 - accuracy: 0.8303 - val_loss: 3.7025 - val_accuracy: 0.5703\n",
            "Epoch 7/10\n",
            "250/250 [==============================] - 62s 249ms/step - loss: 0.9532 - accuracy: 0.8406 - val_loss: 3.8272 - val_accuracy: 0.5694\n",
            "Epoch 8/10\n",
            "250/250 [==============================] - 67s 269ms/step - loss: 0.8447 - accuracy: 0.8513 - val_loss: 3.9180 - val_accuracy: 0.5653\n",
            "Epoch 9/10\n",
            "250/250 [==============================] - 67s 268ms/step - loss: 0.7412 - accuracy: 0.8627 - val_loss: 4.0047 - val_accuracy: 0.5604\n",
            "Epoch 10/10\n",
            "250/250 [==============================] - 62s 247ms/step - loss: 0.6505 - accuracy: 0.8738 - val_loss: 4.1176 - val_accuracy: 0.5602\n"
          ]
        },
        {
          "output_type": "execute_result",
          "data": {
            "text/plain": [
              "<keras.callbacks.History at 0x7f1af5d20670>"
            ]
          },
          "metadata": {},
          "execution_count": 128
        }
      ]
    },
    {
      "cell_type": "code",
      "source": [
        "model.save('model.h5')"
      ],
      "metadata": {
        "id": "pY0Jsd4xRTbT"
      },
      "execution_count": 129,
      "outputs": []
    },
    {
      "cell_type": "markdown",
      "source": [
        "# Predictions"
      ],
      "metadata": {
        "id": "KiOxUtyMQ4zh"
      }
    },
    {
      "cell_type": "code",
      "source": [
        "def translation(i):\n",
        "  print (\"Arabic text:\", arabic_sentences[i])\n",
        "  print (\"\\nEnglish Translation:\", english_sentences[i])\n",
        "  print (\"\\nTranslation:\", logits_to_text(model.predict(tmp_x[[i]])[0], english_tokenizer))"
      ],
      "metadata": {
        "id": "GJ7Xvwcmymtq"
      },
      "execution_count": 130,
      "outputs": []
    },
    {
      "cell_type": "code",
      "source": [
        "print(translation(680))"
      ],
      "metadata": {
        "colab": {
          "base_uri": "https://localhost:8080/"
        },
        "id": "abWYN0FzBwjE",
        "outputId": "e4fea434-7d4b-4c26-a102-e21e30a836fd"
      },
      "execution_count": 131,
      "outputs": [
        {
          "output_type": "stream",
          "name": "stdout",
          "text": [
            "Arabic text: أنا لستُ سعيدة.\n",
            "\n",
            "English Translation: i 'm not happy\n",
            "1/1 [==============================] - 1s 707ms/step\n",
            "\n",
            "Translation: i 'm not happy <PAD> <PAD> <PAD> <PAD> <PAD> <PAD> <PAD> <PAD> <PAD> <PAD> <PAD> <PAD> <PAD> <PAD> <PAD> <PAD> <PAD> <PAD> <PAD> <PAD> <PAD> <PAD> <PAD> <PAD> <PAD> <PAD> <PAD> <PAD> <PAD> <PAD> <PAD> <PAD> <PAD> <PAD> <PAD> <PAD> <PAD> <PAD> <PAD> <PAD> <PAD> <PAD> <PAD> <PAD> <PAD> <PAD> <PAD> <PAD> <PAD> <PAD> <PAD>\n",
            "None\n"
          ]
        }
      ]
    },
    {
      "cell_type": "code",
      "source": [
        "print(translation(220))"
      ],
      "metadata": {
        "colab": {
          "base_uri": "https://localhost:8080/"
        },
        "id": "nEXgb_hCMwfh",
        "outputId": "76235b84-a61a-49f3-fbc2-47e6f6d03eb4"
      },
      "execution_count": 132,
      "outputs": [
        {
          "output_type": "stream",
          "name": "stdout",
          "text": [
            "Arabic text: تعال بسرعة.\n",
            "\n",
            "English Translation: come quick !\n",
            "1/1 [==============================] - 0s 20ms/step\n",
            "\n",
            "Translation: come quick <PAD> <PAD> <PAD> <PAD> <PAD> <PAD> <PAD> <PAD> <PAD> <PAD> <PAD> <PAD> <PAD> <PAD> <PAD> <PAD> <PAD> <PAD> <PAD> <PAD> <PAD> <PAD> <PAD> <PAD> <PAD> <PAD> <PAD> <PAD> <PAD> <PAD> <PAD> <PAD> <PAD> <PAD> <PAD> <PAD> <PAD> <PAD> <PAD> <PAD> <PAD> <PAD> <PAD> <PAD> <PAD> <PAD> <PAD> <PAD> <PAD> <PAD> <PAD> <PAD> <PAD>\n",
            "None\n"
          ]
        }
      ]
    },
    {
      "cell_type": "code",
      "source": [
        "print(translation(114))"
      ],
      "metadata": {
        "colab": {
          "base_uri": "https://localhost:8080/"
        },
        "id": "7WnThJ-ANXeq",
        "outputId": "ccfc5369-5537-4193-844f-35fcf91058c4"
      },
      "execution_count": 133,
      "outputs": [
        {
          "output_type": "stream",
          "name": "stdout",
          "text": [
            "Arabic text: تعال إلى هنا.\n",
            "\n",
            "English Translation: come here\n",
            "1/1 [==============================] - 0s 19ms/step\n",
            "\n",
            "Translation: come here here <PAD> <PAD> <PAD> <PAD> <PAD> <PAD> <PAD> <PAD> <PAD> <PAD> <PAD> <PAD> <PAD> <PAD> <PAD> <PAD> <PAD> <PAD> <PAD> <PAD> <PAD> <PAD> <PAD> <PAD> <PAD> <PAD> <PAD> <PAD> <PAD> <PAD> <PAD> <PAD> <PAD> <PAD> <PAD> <PAD> <PAD> <PAD> <PAD> <PAD> <PAD> <PAD> <PAD> <PAD> <PAD> <PAD> <PAD> <PAD> <PAD> <PAD> <PAD> <PAD>\n",
            "None\n"
          ]
        }
      ]
    }
  ]
}